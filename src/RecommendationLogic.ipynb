{
 "cells": [
  {
   "cell_type": "code",
   "execution_count": 3,
   "metadata": {},
   "outputs": [],
   "source": [
    "import pandas as pd\n",
    "from google.cloud import storage\n",
    "import json\n",
    "import os\n",
    "import sys\n",
    "import io\n",
    "from io import BytesIO\n",
    "import itertools\n",
    "import numpy as np\n",
    "from itertools import product\n",
    "import matplotlib.pyplot as plt"
   ]
  },
  {
   "cell_type": "code",
   "execution_count": null,
   "metadata": {},
   "outputs": [],
   "source": [
    "%pip install --upgrade google-cloud-speech"
   ]
  },
  {
   "cell_type": "code",
   "execution_count": null,
   "metadata": {},
   "outputs": [],
   "source": [
    "%pip install --upgrade google-cloud-storage"
   ]
  },
  {
   "cell_type": "code",
   "execution_count": 4,
   "metadata": {},
   "outputs": [],
   "source": [
    "PATH = os.path.join(os.getcwd(), 'when-we-met-381220-b524f7086bf2.json')\n",
    "os.environ['GOOGLE_APPLICATION_CREDENTIALS']=PATH\n",
    "client = storage.Client(PATH)"
   ]
  },
  {
   "cell_type": "code",
   "execution_count": 5,
   "metadata": {},
   "outputs": [
    {
     "data": {
      "text/plain": [
       "['cake.xlsx', 'event.xlsx', 'food.xlsx', 'music.xlsx', 'wedding_dress.xlsx']"
      ]
     },
     "execution_count": 5,
     "metadata": {},
     "output_type": "execute_result"
    }
   ],
   "source": [
    "bucket= client.get_bucket('when-we-met-dataset')\n",
    "filename = [filename.name for filename in list(bucket.list_blobs(prefix='')) ]\n",
    "filename"
   ]
  },
  {
   "cell_type": "code",
   "execution_count": 6,
   "metadata": {},
   "outputs": [],
   "source": [
    "# blop = bucket.blob(blob_name = 'datasets_1.0/event.xlsx').download_as_string()\n",
    "blop = bucket.blob(blob_name = 'event.xlsx').download_as_string()"
   ]
  },
  {
   "cell_type": "code",
   "execution_count": 16,
   "metadata": {},
   "outputs": [
    {
     "name": "stdout",
     "output_type": "stream",
     "text": [
      "Collecting openpyxl\n",
      "  Downloading openpyxl-3.1.2-py2.py3-none-any.whl (249 kB)\n",
      "\u001b[2K     \u001b[90m━━━━━━━━━━━━━━━━━━━━━━━━━━━━━━━━━━━━━━━\u001b[0m \u001b[32m250.0/250.0 kB\u001b[0m \u001b[31m1.8 MB/s\u001b[0m eta \u001b[36m0:00:00\u001b[0ma \u001b[36m0:00:01\u001b[0m\n",
      "\u001b[?25hCollecting et-xmlfile\n",
      "  Using cached et_xmlfile-1.1.0-py3-none-any.whl (4.7 kB)\n",
      "Installing collected packages: et-xmlfile, openpyxl\n",
      "Successfully installed et-xmlfile-1.1.0 openpyxl-3.1.2\n",
      "Note: you may need to restart the kernel to use updated packages.\n"
     ]
    }
   ],
   "source": [
    "%pip install openpyxl"
   ]
  },
  {
   "cell_type": "code",
   "execution_count": 7,
   "metadata": {},
   "outputs": [
    {
     "name": "stdout",
     "output_type": "stream",
     "text": [
      "[['Transept', 'The Spot of West Fifth', 'The Summit Hotel', 'Newport Syndicate', 'Taft Museum of Art', 'The Lytle Park Hotel, Autograph Collection', 'Cincinnati Marriot at River Center', 'Hotel Covington', 'Embassy Suites Cincinnati - RiverCenter', 'Woodward Theater', '20th Century Theater'], ['Cincinnati Cake & Candy Supplies', 'Haven Bakery', 'Tres Belle Cakes', '3 Sweet Girls Cakery', \"Tink's Sweet Shoppe\", 'Happy Chicks Bakery', 'A Spoon Fulla Sugar', 'Jazzy Sweeties Bakery', 'Mt Lookout Sweets', 'Jazzy Cake Supply'], ['Garnish Catering', 'Jeff Ruby Catering and Entertainment', 'Funkey Catering Events', \"Cincinnati's Catring\", \"Hilver's Catering\", 'Cincinnati Cooks Catering', 'Taste of Class Catering', \"Vonderhaar's catering\", \"Bailey's Family catering\", 'Jeff Thomas Catering'], ['The Chuck Taylors', 'The Sly Band', 'The Touchables', 'The Bluewater Kings Band', 'The Soul Pocket Band', 'The Rusty Griswolds', 'The Link Ensemble', 'The Remains', 'The Mistics', 'The Pete Wagner Band', 'The Airwave Band'], ['Chaz Bridal & Consignment', 'Donna Salyers Fabulous-Bridal', 'Bridal & Formal', 'Carrie Karibo Bridal Boutique', 'Lace Bridal Couture', \"Wendy's Bridal Cincinnati\", 'Hyde Park Bridal', 'Alterations By Toni', 'White Wisteria Bridal Boutique', 'Love Curvy Bridal']]\n"
     ]
    },
    {
     "data": {
      "text/html": [
       "<div>\n",
       "<style scoped>\n",
       "    .dataframe tbody tr th:only-of-type {\n",
       "        vertical-align: middle;\n",
       "    }\n",
       "\n",
       "    .dataframe tbody tr th {\n",
       "        vertical-align: top;\n",
       "    }\n",
       "\n",
       "    .dataframe thead th {\n",
       "        text-align: right;\n",
       "    }\n",
       "</style>\n",
       "<table border=\"1\" class=\"dataframe\">\n",
       "  <thead>\n",
       "    <tr style=\"text-align: right;\">\n",
       "      <th></th>\n",
       "      <th>Location Name</th>\n",
       "      <th>Bakery</th>\n",
       "      <th>Food Catering</th>\n",
       "      <th>Music</th>\n",
       "      <th>Dressers</th>\n",
       "    </tr>\n",
       "  </thead>\n",
       "  <tbody>\n",
       "    <tr>\n",
       "      <th>0</th>\n",
       "      <td>Transept</td>\n",
       "      <td>Cincinnati Cake &amp; Candy Supplies</td>\n",
       "      <td>Garnish Catering</td>\n",
       "      <td>The Chuck Taylors</td>\n",
       "      <td>Chaz Bridal &amp; Consignment</td>\n",
       "    </tr>\n",
       "    <tr>\n",
       "      <th>1</th>\n",
       "      <td>Transept</td>\n",
       "      <td>Cincinnati Cake &amp; Candy Supplies</td>\n",
       "      <td>Garnish Catering</td>\n",
       "      <td>The Chuck Taylors</td>\n",
       "      <td>Donna Salyers Fabulous-Bridal</td>\n",
       "    </tr>\n",
       "    <tr>\n",
       "      <th>2</th>\n",
       "      <td>Transept</td>\n",
       "      <td>Cincinnati Cake &amp; Candy Supplies</td>\n",
       "      <td>Garnish Catering</td>\n",
       "      <td>The Chuck Taylors</td>\n",
       "      <td>Bridal &amp; Formal</td>\n",
       "    </tr>\n",
       "    <tr>\n",
       "      <th>3</th>\n",
       "      <td>Transept</td>\n",
       "      <td>Cincinnati Cake &amp; Candy Supplies</td>\n",
       "      <td>Garnish Catering</td>\n",
       "      <td>The Chuck Taylors</td>\n",
       "      <td>Carrie Karibo Bridal Boutique</td>\n",
       "    </tr>\n",
       "    <tr>\n",
       "      <th>4</th>\n",
       "      <td>Transept</td>\n",
       "      <td>Cincinnati Cake &amp; Candy Supplies</td>\n",
       "      <td>Garnish Catering</td>\n",
       "      <td>The Chuck Taylors</td>\n",
       "      <td>Lace Bridal Couture</td>\n",
       "    </tr>\n",
       "    <tr>\n",
       "      <th>...</th>\n",
       "      <td>...</td>\n",
       "      <td>...</td>\n",
       "      <td>...</td>\n",
       "      <td>...</td>\n",
       "      <td>...</td>\n",
       "    </tr>\n",
       "    <tr>\n",
       "      <th>120995</th>\n",
       "      <td>20th Century Theater</td>\n",
       "      <td>Jazzy Cake Supply</td>\n",
       "      <td>Jeff Thomas Catering</td>\n",
       "      <td>The Airwave Band</td>\n",
       "      <td>Wendy's Bridal Cincinnati</td>\n",
       "    </tr>\n",
       "    <tr>\n",
       "      <th>120996</th>\n",
       "      <td>20th Century Theater</td>\n",
       "      <td>Jazzy Cake Supply</td>\n",
       "      <td>Jeff Thomas Catering</td>\n",
       "      <td>The Airwave Band</td>\n",
       "      <td>Hyde Park Bridal</td>\n",
       "    </tr>\n",
       "    <tr>\n",
       "      <th>120997</th>\n",
       "      <td>20th Century Theater</td>\n",
       "      <td>Jazzy Cake Supply</td>\n",
       "      <td>Jeff Thomas Catering</td>\n",
       "      <td>The Airwave Band</td>\n",
       "      <td>Alterations By Toni</td>\n",
       "    </tr>\n",
       "    <tr>\n",
       "      <th>120998</th>\n",
       "      <td>20th Century Theater</td>\n",
       "      <td>Jazzy Cake Supply</td>\n",
       "      <td>Jeff Thomas Catering</td>\n",
       "      <td>The Airwave Band</td>\n",
       "      <td>White Wisteria Bridal Boutique</td>\n",
       "    </tr>\n",
       "    <tr>\n",
       "      <th>120999</th>\n",
       "      <td>20th Century Theater</td>\n",
       "      <td>Jazzy Cake Supply</td>\n",
       "      <td>Jeff Thomas Catering</td>\n",
       "      <td>The Airwave Band</td>\n",
       "      <td>Love Curvy Bridal</td>\n",
       "    </tr>\n",
       "  </tbody>\n",
       "</table>\n",
       "<p>121000 rows × 5 columns</p>\n",
       "</div>"
      ],
      "text/plain": [
       "               Location Name                            Bakery  \\\n",
       "0                   Transept  Cincinnati Cake & Candy Supplies   \n",
       "1                   Transept  Cincinnati Cake & Candy Supplies   \n",
       "2                   Transept  Cincinnati Cake & Candy Supplies   \n",
       "3                   Transept  Cincinnati Cake & Candy Supplies   \n",
       "4                   Transept  Cincinnati Cake & Candy Supplies   \n",
       "...                      ...                               ...   \n",
       "120995  20th Century Theater                 Jazzy Cake Supply   \n",
       "120996  20th Century Theater                 Jazzy Cake Supply   \n",
       "120997  20th Century Theater                 Jazzy Cake Supply   \n",
       "120998  20th Century Theater                 Jazzy Cake Supply   \n",
       "120999  20th Century Theater                 Jazzy Cake Supply   \n",
       "\n",
       "               Food Catering              Music  \\\n",
       "0           Garnish Catering  The Chuck Taylors   \n",
       "1           Garnish Catering  The Chuck Taylors   \n",
       "2           Garnish Catering  The Chuck Taylors   \n",
       "3           Garnish Catering  The Chuck Taylors   \n",
       "4           Garnish Catering  The Chuck Taylors   \n",
       "...                      ...                ...   \n",
       "120995  Jeff Thomas Catering   The Airwave Band   \n",
       "120996  Jeff Thomas Catering   The Airwave Band   \n",
       "120997  Jeff Thomas Catering   The Airwave Band   \n",
       "120998  Jeff Thomas Catering   The Airwave Band   \n",
       "120999  Jeff Thomas Catering   The Airwave Band   \n",
       "\n",
       "                              Dressers  \n",
       "0            Chaz Bridal & Consignment  \n",
       "1        Donna Salyers Fabulous-Bridal  \n",
       "2                      Bridal & Formal  \n",
       "3        Carrie Karibo Bridal Boutique  \n",
       "4                  Lace Bridal Couture  \n",
       "...                                ...  \n",
       "120995       Wendy's Bridal Cincinnati  \n",
       "120996                Hyde Park Bridal  \n",
       "120997             Alterations By Toni  \n",
       "120998  White Wisteria Bridal Boutique  \n",
       "120999               Love Curvy Bridal  \n",
       "\n",
       "[121000 rows x 5 columns]"
      ]
     },
     "metadata": {},
     "output_type": "display_data"
    }
   ],
   "source": [
    "eventDF = pd.read_excel(\n",
    "    io.BytesIO(\n",
    "                 bucket.blob(blob_name = 'event.xlsx').download_as_string() \n",
    "              ))\n",
    "cakeDF = pd.read_excel(\n",
    "    io.BytesIO(\n",
    "                 bucket.blob(blob_name = 'cake.xlsx').download_as_string() \n",
    "              ))\n",
    "foodDF = pd.read_excel(\n",
    "    io.BytesIO(\n",
    "                 bucket.blob(blob_name = 'food.xlsx').download_as_string() \n",
    "              ))\n",
    "musicDF = pd.read_excel(\n",
    "    io.BytesIO(\n",
    "                 bucket.blob(blob_name = 'music.xlsx').download_as_string() \n",
    "              ))\n",
    "wedding_dressDF = pd.read_excel(\n",
    "    io.BytesIO(\n",
    "                 bucket.blob(blob_name = 'wedding_dress.xlsx').download_as_string() \n",
    "              ))\n",
    "#display(eventDF)\n",
    "# display(cakeDF)\n",
    "# display(foodDF)\n",
    "# display(musicDF)\n",
    "# display(wedding_dressDF)\n",
    "#col_list = eventDF['Location Name'].values.tolist()\n",
    "\n",
    "lists=[eventDF['Location Name'].values.tolist(), cakeDF['Bakery'].values.tolist(), foodDF['Food Catering'].values.tolist(), musicDF['Music'].values.tolist(), wedding_dressDF['Dressers'].values.tolist()]\n",
    "print(lists)\n",
    "x=pd.DataFrame(list(itertools.product(*lists)), columns=['Location Name', 'Bakery', 'Food Catering', 'Music', 'Dressers'])\n",
    "display(x)"
   ]
  },
  {
   "cell_type": "code",
   "execution_count": 8,
   "metadata": {},
   "outputs": [
    {
     "name": "stdout",
     "output_type": "stream",
     "text": [
      "[('Transept', 4000), ('The Spot of West Fifth', 2000), ('The Summit Hotel', 7000), ('Newport Syndicate', 6000), ('Taft Museum of Art', 8000), ('The Lytle Park Hotel, Autograph Collection', 7000), ('Cincinnati Marriot at River Center', 4000), ('Hotel Covington', 8000), ('Embassy Suites Cincinnati - RiverCenter', 9000), ('Woodward Theater', 5000), ('20th Century Theater', 8000)]\n",
      "[('Cincinnati Cake & Candy Supplies', 395), ('Haven Bakery', 471), ('Tres Belle Cakes', 340), ('3 Sweet Girls Cakery', 566), (\"Tink's Sweet Shoppe\", 320), ('Happy Chicks Bakery', 542), ('A Spoon Fulla Sugar', 512), ('Jazzy Sweeties Bakery', 447), ('Mt Lookout Sweets', 453), ('Jazzy Cake Supply', 409)]\n",
      "[('Garnish Catering', 40), ('Jeff Ruby Catering and Entertainment', 50), ('Funkey Catering Events', 30), (\"Cincinnati's Catring\", 120), (\"Hilver's Catering\", 150), ('Cincinnati Cooks Catering', 100), ('Taste of Class Catering', 130), (\"Vonderhaar's catering\", 60), (\"Bailey's Family catering\", 50), ('Jeff Thomas Catering', 110)]\n",
      "[('The Chuck Taylors', 3100), ('The Sly Band', 2800), ('The Touchables', 4000), ('The Bluewater Kings Band', 4020), ('The Soul Pocket Band', 2500), ('The Rusty Griswolds', 3600), ('The Link Ensemble', 1600), ('The Remains', 2600), ('The Mistics', 2460), ('The Pete Wagner Band', 3850), ('The Airwave Band', 2980)]\n",
      "[('Chaz Bridal & Consignment', 1600), ('Donna Salyers Fabulous-Bridal', 2000), ('Bridal & Formal', 1850), ('Carrie Karibo Bridal Boutique', 2500), ('Lace Bridal Couture', 1400), (\"Wendy's Bridal Cincinnati\", 2250), ('Hyde Park Bridal', 1900), ('Alterations By Toni', 1500), ('White Wisteria Bridal Boutique', 2400), ('Love Curvy Bridal', 1500)]\n"
     ]
    }
   ],
   "source": [
    "eventDF = pd.read_excel(\n",
    "    io.BytesIO(\n",
    "                 bucket.blob(blob_name = 'event.xlsx').download_as_string() \n",
    "              ))\n",
    "cakeDF = pd.read_excel(\n",
    "    io.BytesIO(\n",
    "                 bucket.blob(blob_name = 'cake.xlsx').download_as_string() \n",
    "              ))\n",
    "foodDF = pd.read_excel(\n",
    "    io.BytesIO(\n",
    "                 bucket.blob(blob_name = 'food.xlsx').download_as_string() \n",
    "              ))\n",
    "musicDF = pd.read_excel(\n",
    "    io.BytesIO(\n",
    "                 bucket.blob(blob_name = 'music.xlsx').download_as_string() \n",
    "              ))\n",
    "wedding_dressDF = pd.read_excel(\n",
    "    io.BytesIO(\n",
    "                 bucket.blob(blob_name = 'wedding_dress.xlsx').download_as_string() \n",
    "              ))\n",
    "#display(eventDF)\n",
    "# display(cakeDF)\n",
    "# display(foodDF)\n",
    "# display(musicDF)\n",
    "# display(wedding_dressDF)\n",
    "#col_list = eventDF['Location Name'].values.tolist()\n",
    "# lists=[(eventDF['Location Name'].values,eventDF['Cost'].values)]\n",
    "# print(lists)\n",
    "\n",
    "x= list(zip(eventDF['Location Name'], eventDF['Cost']))\n",
    "print(x)\n",
    "\n",
    "y= list(zip(cakeDF['Bakery'], cakeDF['Cost']))\n",
    "print(y)\n",
    "\n",
    "z= list(zip(foodDF['Food Catering'], foodDF['Cost']))\n",
    "print(z)\n",
    "\n",
    "a= list(zip(musicDF['Music'], musicDF['Cost']))\n",
    "print(a)\n",
    "\n",
    "b= list(zip(wedding_dressDF['Dressers'], wedding_dressDF['Cost']))\n",
    "print(b)\n",
    "\n",
    "\n",
    "# lists=[x,y,z,a,b]\n",
    "# print(lists)\n",
    "# dframe=pd.DataFrame(list(itertools.product(*lists)), columns=['Location Name', 'Bakery', 'Food Catering', 'Music', 'Dressers'])\n",
    "# display(x)"
   ]
  },
  {
   "cell_type": "code",
   "execution_count": 9,
   "metadata": {},
   "outputs": [
    {
     "name": "stdout",
     "output_type": "stream",
     "text": [
      "[('Transept', 4000) ('Taft Museum of Art', 8000)\n",
      " ('20th Century Theater', 8000)]\n"
     ]
    },
    {
     "data": {
      "text/html": [
       "<div>\n",
       "<style scoped>\n",
       "    .dataframe tbody tr th:only-of-type {\n",
       "        vertical-align: middle;\n",
       "    }\n",
       "\n",
       "    .dataframe tbody tr th {\n",
       "        vertical-align: top;\n",
       "    }\n",
       "\n",
       "    .dataframe thead th {\n",
       "        text-align: right;\n",
       "    }\n",
       "</style>\n",
       "<table border=\"1\" class=\"dataframe\">\n",
       "  <thead>\n",
       "    <tr style=\"text-align: right;\">\n",
       "      <th></th>\n",
       "    </tr>\n",
       "  </thead>\n",
       "  <tbody>\n",
       "  </tbody>\n",
       "</table>\n",
       "</div>"
      ],
      "text/plain": [
       "Empty DataFrame\n",
       "Columns: []\n",
       "Index: []"
      ]
     },
     "metadata": {},
     "output_type": "display_data"
    },
    {
     "name": "stdout",
     "output_type": "stream",
     "text": [
      "[('Haven Bakery', 471) ('A Spoon Fulla Sugar', 512)\n",
      " ('Jazzy Cake Supply', 409)]\n",
      "[('Haven Bakery', 471) ('A Spoon Fulla Sugar', 512)\n",
      " ('Jazzy Cake Supply', 409)]\n"
     ]
    },
    {
     "data": {
      "text/html": [
       "<div>\n",
       "<style scoped>\n",
       "    .dataframe tbody tr th:only-of-type {\n",
       "        vertical-align: middle;\n",
       "    }\n",
       "\n",
       "    .dataframe tbody tr th {\n",
       "        vertical-align: top;\n",
       "    }\n",
       "\n",
       "    .dataframe thead th {\n",
       "        text-align: right;\n",
       "    }\n",
       "</style>\n",
       "<table border=\"1\" class=\"dataframe\">\n",
       "  <thead>\n",
       "    <tr style=\"text-align: right;\">\n",
       "      <th></th>\n",
       "      <th>cake</th>\n",
       "    </tr>\n",
       "  </thead>\n",
       "  <tbody>\n",
       "    <tr>\n",
       "      <th>0</th>\n",
       "      <td>(Haven Bakery, 471)</td>\n",
       "    </tr>\n",
       "    <tr>\n",
       "      <th>1</th>\n",
       "      <td>(A Spoon Fulla Sugar, 512)</td>\n",
       "    </tr>\n",
       "    <tr>\n",
       "      <th>2</th>\n",
       "      <td>(Jazzy Cake Supply, 409)</td>\n",
       "    </tr>\n",
       "  </tbody>\n",
       "</table>\n",
       "</div>"
      ],
      "text/plain": [
       "                         cake\n",
       "0         (Haven Bakery, 471)\n",
       "1  (A Spoon Fulla Sugar, 512)\n",
       "2    (Jazzy Cake Supply, 409)"
      ]
     },
     "metadata": {},
     "output_type": "display_data"
    },
    {
     "name": "stdout",
     "output_type": "stream",
     "text": [
      "[('Garnish Catering', 40)]\n"
     ]
    },
    {
     "data": {
      "text/html": [
       "<div>\n",
       "<style scoped>\n",
       "    .dataframe tbody tr th:only-of-type {\n",
       "        vertical-align: middle;\n",
       "    }\n",
       "\n",
       "    .dataframe tbody tr th {\n",
       "        vertical-align: top;\n",
       "    }\n",
       "\n",
       "    .dataframe thead th {\n",
       "        text-align: right;\n",
       "    }\n",
       "</style>\n",
       "<table border=\"1\" class=\"dataframe\">\n",
       "  <thead>\n",
       "    <tr style=\"text-align: right;\">\n",
       "      <th></th>\n",
       "      <th>cake</th>\n",
       "      <th>food</th>\n",
       "    </tr>\n",
       "  </thead>\n",
       "  <tbody>\n",
       "    <tr>\n",
       "      <th>0</th>\n",
       "      <td>(Haven Bakery, 471)</td>\n",
       "      <td>(Garnish Catering, 40)</td>\n",
       "    </tr>\n",
       "    <tr>\n",
       "      <th>1</th>\n",
       "      <td>(A Spoon Fulla Sugar, 512)</td>\n",
       "      <td>NaN</td>\n",
       "    </tr>\n",
       "    <tr>\n",
       "      <th>2</th>\n",
       "      <td>(Jazzy Cake Supply, 409)</td>\n",
       "      <td>NaN</td>\n",
       "    </tr>\n",
       "  </tbody>\n",
       "</table>\n",
       "</div>"
      ],
      "text/plain": [
       "                         cake                    food\n",
       "0         (Haven Bakery, 471)  (Garnish Catering, 40)\n",
       "1  (A Spoon Fulla Sugar, 512)                     NaN\n",
       "2    (Jazzy Cake Supply, 409)                     NaN"
      ]
     },
     "metadata": {},
     "output_type": "display_data"
    },
    {
     "name": "stdout",
     "output_type": "stream",
     "text": [
      "[('The Chuck Taylors', 3100) ('The Bluewater Kings Band', 4020)\n",
      " ('The Rusty Griswolds', 3600) ('The Link Ensemble', 1600)]\n"
     ]
    },
    {
     "data": {
      "text/html": [
       "<div>\n",
       "<style scoped>\n",
       "    .dataframe tbody tr th:only-of-type {\n",
       "        vertical-align: middle;\n",
       "    }\n",
       "\n",
       "    .dataframe tbody tr th {\n",
       "        vertical-align: top;\n",
       "    }\n",
       "\n",
       "    .dataframe thead th {\n",
       "        text-align: right;\n",
       "    }\n",
       "</style>\n",
       "<table border=\"1\" class=\"dataframe\">\n",
       "  <thead>\n",
       "    <tr style=\"text-align: right;\">\n",
       "      <th></th>\n",
       "      <th>cake</th>\n",
       "      <th>food</th>\n",
       "      <th>music</th>\n",
       "    </tr>\n",
       "  </thead>\n",
       "  <tbody>\n",
       "    <tr>\n",
       "      <th>0</th>\n",
       "      <td>(Haven Bakery, 471)</td>\n",
       "      <td>(Garnish Catering, 40)</td>\n",
       "      <td>(The Chuck Taylors, 3100)</td>\n",
       "    </tr>\n",
       "    <tr>\n",
       "      <th>1</th>\n",
       "      <td>(A Spoon Fulla Sugar, 512)</td>\n",
       "      <td>NaN</td>\n",
       "      <td>(The Bluewater Kings Band, 4020)</td>\n",
       "    </tr>\n",
       "    <tr>\n",
       "      <th>2</th>\n",
       "      <td>(Jazzy Cake Supply, 409)</td>\n",
       "      <td>NaN</td>\n",
       "      <td>(The Rusty Griswolds, 3600)</td>\n",
       "    </tr>\n",
       "  </tbody>\n",
       "</table>\n",
       "</div>"
      ],
      "text/plain": [
       "                         cake                    food  \\\n",
       "0         (Haven Bakery, 471)  (Garnish Catering, 40)   \n",
       "1  (A Spoon Fulla Sugar, 512)                     NaN   \n",
       "2    (Jazzy Cake Supply, 409)                     NaN   \n",
       "\n",
       "                              music  \n",
       "0         (The Chuck Taylors, 3100)  \n",
       "1  (The Bluewater Kings Band, 4020)  \n",
       "2       (The Rusty Griswolds, 3600)  "
      ]
     },
     "metadata": {},
     "output_type": "display_data"
    },
    {
     "name": "stdout",
     "output_type": "stream",
     "text": [
      "[('Chaz Bridal & Consignment', 1600) ('Hyde Park Bridal', 1900)]\n"
     ]
    },
    {
     "data": {
      "text/html": [
       "<div>\n",
       "<style scoped>\n",
       "    .dataframe tbody tr th:only-of-type {\n",
       "        vertical-align: middle;\n",
       "    }\n",
       "\n",
       "    .dataframe tbody tr th {\n",
       "        vertical-align: top;\n",
       "    }\n",
       "\n",
       "    .dataframe thead th {\n",
       "        text-align: right;\n",
       "    }\n",
       "</style>\n",
       "<table border=\"1\" class=\"dataframe\">\n",
       "  <thead>\n",
       "    <tr style=\"text-align: right;\">\n",
       "      <th></th>\n",
       "      <th>cake</th>\n",
       "      <th>food</th>\n",
       "      <th>music</th>\n",
       "      <th>dress</th>\n",
       "    </tr>\n",
       "  </thead>\n",
       "  <tbody>\n",
       "    <tr>\n",
       "      <th>0</th>\n",
       "      <td>(Haven Bakery, 471)</td>\n",
       "      <td>(Garnish Catering, 40)</td>\n",
       "      <td>(The Chuck Taylors, 3100)</td>\n",
       "      <td>(Chaz Bridal &amp; Consignment, 1600)</td>\n",
       "    </tr>\n",
       "    <tr>\n",
       "      <th>1</th>\n",
       "      <td>(A Spoon Fulla Sugar, 512)</td>\n",
       "      <td>NaN</td>\n",
       "      <td>(The Bluewater Kings Band, 4020)</td>\n",
       "      <td>(Hyde Park Bridal, 1900)</td>\n",
       "    </tr>\n",
       "    <tr>\n",
       "      <th>2</th>\n",
       "      <td>(Jazzy Cake Supply, 409)</td>\n",
       "      <td>NaN</td>\n",
       "      <td>(The Rusty Griswolds, 3600)</td>\n",
       "      <td>NaN</td>\n",
       "    </tr>\n",
       "  </tbody>\n",
       "</table>\n",
       "</div>"
      ],
      "text/plain": [
       "                         cake                    food  \\\n",
       "0         (Haven Bakery, 471)  (Garnish Catering, 40)   \n",
       "1  (A Spoon Fulla Sugar, 512)                     NaN   \n",
       "2    (Jazzy Cake Supply, 409)                     NaN   \n",
       "\n",
       "                              music                              dress  \n",
       "0         (The Chuck Taylors, 3100)  (Chaz Bridal & Consignment, 1600)  \n",
       "1  (The Bluewater Kings Band, 4020)           (Hyde Park Bridal, 1900)  \n",
       "2       (The Rusty Griswolds, 3600)                                NaN  "
      ]
     },
     "metadata": {},
     "output_type": "display_data"
    },
    {
     "name": "stdout",
     "output_type": "stream",
     "text": [
      "{'event': array([('Transept', 4000), ('Taft Museum of Art', 8000),\n",
      "       ('20th Century Theater', 8000)], dtype=object), 'cake': array([('Haven Bakery', 471), ('A Spoon Fulla Sugar', 512),\n",
      "       ('Jazzy Cake Supply', 409)], dtype=object), 'food': array([('Garnish Catering', 40)], dtype=object), 'music': array([('The Chuck Taylors', 3100), ('The Bluewater Kings Band', 4020),\n",
      "       ('The Rusty Griswolds', 3600), ('The Link Ensemble', 1600)],\n",
      "      dtype=object), 'dress': array([('Chaz Bridal & Consignment', 1600), ('Hyde Park Bridal', 1900)],\n",
      "      dtype=object)}\n",
      "music\n"
     ]
    },
    {
     "data": {
      "text/html": [
       "<div>\n",
       "<style scoped>\n",
       "    .dataframe tbody tr th:only-of-type {\n",
       "        vertical-align: middle;\n",
       "    }\n",
       "\n",
       "    .dataframe tbody tr th {\n",
       "        vertical-align: top;\n",
       "    }\n",
       "\n",
       "    .dataframe thead th {\n",
       "        text-align: right;\n",
       "    }\n",
       "</style>\n",
       "<table border=\"1\" class=\"dataframe\">\n",
       "  <thead>\n",
       "    <tr style=\"text-align: right;\">\n",
       "      <th></th>\n",
       "      <th>music</th>\n",
       "    </tr>\n",
       "  </thead>\n",
       "  <tbody>\n",
       "    <tr>\n",
       "      <th>0</th>\n",
       "      <td>(The Chuck Taylors, 3100)</td>\n",
       "    </tr>\n",
       "    <tr>\n",
       "      <th>1</th>\n",
       "      <td>(The Bluewater Kings Band, 4020)</td>\n",
       "    </tr>\n",
       "    <tr>\n",
       "      <th>2</th>\n",
       "      <td>(The Rusty Griswolds, 3600)</td>\n",
       "    </tr>\n",
       "    <tr>\n",
       "      <th>3</th>\n",
       "      <td>(The Link Ensemble, 1600)</td>\n",
       "    </tr>\n",
       "  </tbody>\n",
       "</table>\n",
       "</div>"
      ],
      "text/plain": [
       "                              music\n",
       "0         (The Chuck Taylors, 3100)\n",
       "1  (The Bluewater Kings Band, 4020)\n",
       "2       (The Rusty Griswolds, 3600)\n",
       "3         (The Link Ensemble, 1600)"
      ]
     },
     "metadata": {},
     "output_type": "display_data"
    },
    {
     "name": "stdout",
     "output_type": "stream",
     "text": [
      "{'event': array([('Transept', 4000), ('Taft Museum of Art', 8000),\n",
      "       ('20th Century Theater', 8000)], dtype=object), 'cake': array([('Haven Bakery', 471), ('A Spoon Fulla Sugar', 512),\n",
      "       ('Jazzy Cake Supply', 409)], dtype=object), 'food': array([('Garnish Catering', 40)], dtype=object), 'dress': array([('Chaz Bridal & Consignment', 1600), ('Hyde Park Bridal', 1900)],\n",
      "      dtype=object)}\n"
     ]
    },
    {
     "data": {
      "text/html": [
       "<div>\n",
       "<style scoped>\n",
       "    .dataframe tbody tr th:only-of-type {\n",
       "        vertical-align: middle;\n",
       "    }\n",
       "\n",
       "    .dataframe tbody tr th {\n",
       "        vertical-align: top;\n",
       "    }\n",
       "\n",
       "    .dataframe thead th {\n",
       "        text-align: right;\n",
       "    }\n",
       "</style>\n",
       "<table border=\"1\" class=\"dataframe\">\n",
       "  <thead>\n",
       "    <tr style=\"text-align: right;\">\n",
       "      <th></th>\n",
       "      <th>music</th>\n",
       "      <th>event</th>\n",
       "      <th>cake</th>\n",
       "      <th>food</th>\n",
       "      <th>dress</th>\n",
       "    </tr>\n",
       "  </thead>\n",
       "  <tbody>\n",
       "    <tr>\n",
       "      <th>0</th>\n",
       "      <td>(The Chuck Taylors, 3100)</td>\n",
       "      <td>(Transept, 4000)</td>\n",
       "      <td>(Haven Bakery, 471)</td>\n",
       "      <td>(Garnish Catering, 40)</td>\n",
       "      <td>(Chaz Bridal &amp; Consignment, 1600)</td>\n",
       "    </tr>\n",
       "    <tr>\n",
       "      <th>1</th>\n",
       "      <td>(The Bluewater Kings Band, 4020)</td>\n",
       "      <td>(Taft Museum of Art, 8000)</td>\n",
       "      <td>(A Spoon Fulla Sugar, 512)</td>\n",
       "      <td>NaN</td>\n",
       "      <td>(Hyde Park Bridal, 1900)</td>\n",
       "    </tr>\n",
       "    <tr>\n",
       "      <th>2</th>\n",
       "      <td>(The Rusty Griswolds, 3600)</td>\n",
       "      <td>(20th Century Theater, 8000)</td>\n",
       "      <td>(Jazzy Cake Supply, 409)</td>\n",
       "      <td>NaN</td>\n",
       "      <td>NaN</td>\n",
       "    </tr>\n",
       "    <tr>\n",
       "      <th>3</th>\n",
       "      <td>(The Link Ensemble, 1600)</td>\n",
       "      <td>NaN</td>\n",
       "      <td>NaN</td>\n",
       "      <td>NaN</td>\n",
       "      <td>NaN</td>\n",
       "    </tr>\n",
       "  </tbody>\n",
       "</table>\n",
       "</div>"
      ],
      "text/plain": [
       "                              music                         event  \\\n",
       "0         (The Chuck Taylors, 3100)              (Transept, 4000)   \n",
       "1  (The Bluewater Kings Band, 4020)    (Taft Museum of Art, 8000)   \n",
       "2       (The Rusty Griswolds, 3600)  (20th Century Theater, 8000)   \n",
       "3         (The Link Ensemble, 1600)                           NaN   \n",
       "\n",
       "                         cake                    food  \\\n",
       "0         (Haven Bakery, 471)  (Garnish Catering, 40)   \n",
       "1  (A Spoon Fulla Sugar, 512)                     NaN   \n",
       "2    (Jazzy Cake Supply, 409)                     NaN   \n",
       "3                         NaN                     NaN   \n",
       "\n",
       "                               dress  \n",
       "0  (Chaz Bridal & Consignment, 1600)  \n",
       "1           (Hyde Park Bridal, 1900)  \n",
       "2                                NaN  \n",
       "3                                NaN  "
      ]
     },
     "metadata": {},
     "output_type": "display_data"
    }
   ],
   "source": [
    "eventTheme = 'Royal'\n",
    "eventCapacity = '<50'\n",
    "foodCuisine = 'continental'\n",
    "foodDiet = 'vegan'\n",
    "musicType = 'Jazz'\n",
    "wedding_dressType = 'Romantic'\n",
    "cakeTiers = 3\n",
    "\n",
    "\n",
    "final = pd.DataFrame()\n",
    "\n",
    "\n",
    "finalDICT = {'event', 'cake', 'food', 'music', 'dress'}\n",
    "\n",
    "#########\n",
    "\n",
    "eventDF['eventINDEX']= x\n",
    "\n",
    "\n",
    "mask = (eventDF['Theme'] == eventTheme) & (eventDF['Capacity'] == eventCapacity)\n",
    "\n",
    "eeeee = eventDF.loc[mask, 'eventINDEX'].values \n",
    "print(eeeee)\n",
    "\n",
    "# final['event'] = pd.Series(eventDF.loc[mask, 'eventINDEX'].values if mask.any() else  np.nan)\n",
    "\n",
    "display(final)\n",
    "\n",
    "#########\n",
    "\n",
    "cakeDF['cakeINDEX'] = y\n",
    "mask2 = cakeDF['Tiers of Cake'] == cakeTiers\n",
    "final['cake'] = pd.Series(cakeDF.loc[mask2, 'cakeINDEX'].values if mask.any() else np.nan)\n",
    "\n",
    "print(cakeDF.loc[mask2, 'cakeINDEX'].values if mask.any() else np.nan)\n",
    "\n",
    "\n",
    "fffff = cakeDF.loc[mask2, 'cakeINDEX'].values\n",
    "\n",
    "print(fffff)\n",
    "\n",
    "display(final)\n",
    "\n",
    "\n",
    "#########\n",
    "\n",
    "foodDF['foodINDEX'] = z\n",
    "\n",
    "mask3 = (foodDF['Cuisine'] == foodCuisine) & (foodDF['dietary specifications'] == foodDiet)\n",
    "final['food'] = pd.Series(foodDF.loc[mask3, 'foodINDEX'].values if mask3.any() else np.nan )\n",
    "#print(type(foodDF.loc[mask3, 'foodINDEX'].values if mask3.any() else np.nan))\n",
    "\n",
    "\n",
    "ggggg = foodDF.loc[mask3, 'foodINDEX'].values\n",
    "\n",
    "print(ggggg)\n",
    "\n",
    "display(final)\n",
    "\n",
    "\n",
    "#######\n",
    "\n",
    "\n",
    "\n",
    "\n",
    "musicDF['musicINDEX'] = a\n",
    "\n",
    "mask4 = musicDF['Type'] == musicType\n",
    "final['music'] = pd.Series(musicDF.loc[mask4, 'musicINDEX'].values if mask4.any() else np.nan )\n",
    "#print(type(foodDF.loc[mask3, 'foodINDEX'].values if mask3.any() else np.nan))\n",
    "\n",
    "\n",
    "hhhhh = musicDF.loc[mask4, 'musicINDEX'].values\n",
    "\n",
    "print(hhhhh)\n",
    "\n",
    "display(final)\n",
    "\n",
    "#####\n",
    "\n",
    "wedding_dressDF['dressINDEX'] = b\n",
    "\n",
    "mask5 = wedding_dressDF['Type'] == wedding_dressType\n",
    "final['dress'] = pd.Series(wedding_dressDF.loc[mask5, 'dressINDEX'].values if mask5.any() else np.nan )\n",
    "#print(type(foodDF.loc[mask3, 'foodINDEX'].values if mask3.any() else np.nan))\n",
    "\n",
    "iiiii = wedding_dressDF.loc[mask5, 'dressINDEX'].values\n",
    "\n",
    "print(iiiii)\n",
    "\n",
    "display(final)\n",
    "\n",
    "\n",
    "finalDICT = {'event': eeeee, 'cake': fffff, 'food': ggggg, 'music': hhhhh, 'dress': iiiii}\n",
    "print(finalDICT)\n",
    "\n",
    " \n",
    "\n",
    "max_key = max(finalDICT, key=lambda k: len(finalDICT[k]))\n",
    "print(max_key)\n",
    "\n",
    "extrafinal = pd.DataFrame()\n",
    "\n",
    "extrafinal[max_key] = finalDICT[max_key]\n",
    "display(extrafinal)\n",
    "\n",
    "del finalDICT[max_key]\n",
    "\n",
    "print(finalDICT)\n",
    "for i in finalDICT:\n",
    "    extrafinal[i] = pd.Series(finalDICT[i]) \n",
    "\n",
    "display(extrafinal)\n"
   ]
  },
  {
   "cell_type": "code",
   "execution_count": 51,
   "metadata": {},
   "outputs": [],
   "source": [
    "# comb = list(product(final['event'], final['cake'], final['food'], final['music'], final['dress']))"
   ]
  },
  {
   "cell_type": "code",
   "execution_count": 52,
   "metadata": {},
   "outputs": [],
   "source": [
    "# print(comb)"
   ]
  },
  {
   "cell_type": "code",
   "execution_count": 11,
   "metadata": {},
   "outputs": [
    {
     "name": "stdout",
     "output_type": "stream",
     "text": [
      "[(('Transept', 4000), ('Haven Bakery', 471), ('Garnish Catering', 40), ('The Chuck Taylors', 3100), ('Chaz Bridal & Consignment', 1600)), (('Transept', 4000), ('Haven Bakery', 471), ('Garnish Catering', 40), ('The Chuck Taylors', 3100), ('Hyde Park Bridal', 1900)), (('Transept', 4000), ('Haven Bakery', 471), ('Garnish Catering', 40), ('The Bluewater Kings Band', 4020), ('Chaz Bridal & Consignment', 1600)), (('Transept', 4000), ('Haven Bakery', 471), ('Garnish Catering', 40), ('The Bluewater Kings Band', 4020), ('Hyde Park Bridal', 1900)), (('Transept', 4000), ('Haven Bakery', 471), ('Garnish Catering', 40), ('The Rusty Griswolds', 3600), ('Chaz Bridal & Consignment', 1600)), (('Transept', 4000), ('Haven Bakery', 471), ('Garnish Catering', 40), ('The Rusty Griswolds', 3600), ('Hyde Park Bridal', 1900)), (('Transept', 4000), ('Haven Bakery', 471), ('Garnish Catering', 40), ('The Link Ensemble', 1600), ('Chaz Bridal & Consignment', 1600)), (('Transept', 4000), ('Haven Bakery', 471), ('Garnish Catering', 40), ('The Link Ensemble', 1600), ('Hyde Park Bridal', 1900)), (('Transept', 4000), ('A Spoon Fulla Sugar', 512), ('Garnish Catering', 40), ('The Chuck Taylors', 3100), ('Chaz Bridal & Consignment', 1600)), (('Transept', 4000), ('A Spoon Fulla Sugar', 512), ('Garnish Catering', 40), ('The Chuck Taylors', 3100), ('Hyde Park Bridal', 1900)), (('Transept', 4000), ('A Spoon Fulla Sugar', 512), ('Garnish Catering', 40), ('The Bluewater Kings Band', 4020), ('Chaz Bridal & Consignment', 1600)), (('Transept', 4000), ('A Spoon Fulla Sugar', 512), ('Garnish Catering', 40), ('The Bluewater Kings Band', 4020), ('Hyde Park Bridal', 1900)), (('Transept', 4000), ('A Spoon Fulla Sugar', 512), ('Garnish Catering', 40), ('The Rusty Griswolds', 3600), ('Chaz Bridal & Consignment', 1600)), (('Transept', 4000), ('A Spoon Fulla Sugar', 512), ('Garnish Catering', 40), ('The Rusty Griswolds', 3600), ('Hyde Park Bridal', 1900)), (('Transept', 4000), ('A Spoon Fulla Sugar', 512), ('Garnish Catering', 40), ('The Link Ensemble', 1600), ('Chaz Bridal & Consignment', 1600)), (('Transept', 4000), ('A Spoon Fulla Sugar', 512), ('Garnish Catering', 40), ('The Link Ensemble', 1600), ('Hyde Park Bridal', 1900)), (('Transept', 4000), ('Jazzy Cake Supply', 409), ('Garnish Catering', 40), ('The Chuck Taylors', 3100), ('Chaz Bridal & Consignment', 1600)), (('Transept', 4000), ('Jazzy Cake Supply', 409), ('Garnish Catering', 40), ('The Chuck Taylors', 3100), ('Hyde Park Bridal', 1900)), (('Transept', 4000), ('Jazzy Cake Supply', 409), ('Garnish Catering', 40), ('The Bluewater Kings Band', 4020), ('Chaz Bridal & Consignment', 1600)), (('Transept', 4000), ('Jazzy Cake Supply', 409), ('Garnish Catering', 40), ('The Bluewater Kings Band', 4020), ('Hyde Park Bridal', 1900)), (('Transept', 4000), ('Jazzy Cake Supply', 409), ('Garnish Catering', 40), ('The Rusty Griswolds', 3600), ('Chaz Bridal & Consignment', 1600)), (('Transept', 4000), ('Jazzy Cake Supply', 409), ('Garnish Catering', 40), ('The Rusty Griswolds', 3600), ('Hyde Park Bridal', 1900)), (('Transept', 4000), ('Jazzy Cake Supply', 409), ('Garnish Catering', 40), ('The Link Ensemble', 1600), ('Chaz Bridal & Consignment', 1600)), (('Transept', 4000), ('Jazzy Cake Supply', 409), ('Garnish Catering', 40), ('The Link Ensemble', 1600), ('Hyde Park Bridal', 1900)), (('Taft Museum of Art', 8000), ('Haven Bakery', 471), ('Garnish Catering', 40), ('The Chuck Taylors', 3100), ('Chaz Bridal & Consignment', 1600)), (('Taft Museum of Art', 8000), ('Haven Bakery', 471), ('Garnish Catering', 40), ('The Chuck Taylors', 3100), ('Hyde Park Bridal', 1900)), (('Taft Museum of Art', 8000), ('Haven Bakery', 471), ('Garnish Catering', 40), ('The Bluewater Kings Band', 4020), ('Chaz Bridal & Consignment', 1600)), (('Taft Museum of Art', 8000), ('Haven Bakery', 471), ('Garnish Catering', 40), ('The Bluewater Kings Band', 4020), ('Hyde Park Bridal', 1900)), (('Taft Museum of Art', 8000), ('Haven Bakery', 471), ('Garnish Catering', 40), ('The Rusty Griswolds', 3600), ('Chaz Bridal & Consignment', 1600)), (('Taft Museum of Art', 8000), ('Haven Bakery', 471), ('Garnish Catering', 40), ('The Rusty Griswolds', 3600), ('Hyde Park Bridal', 1900)), (('Taft Museum of Art', 8000), ('Haven Bakery', 471), ('Garnish Catering', 40), ('The Link Ensemble', 1600), ('Chaz Bridal & Consignment', 1600)), (('Taft Museum of Art', 8000), ('Haven Bakery', 471), ('Garnish Catering', 40), ('The Link Ensemble', 1600), ('Hyde Park Bridal', 1900)), (('Taft Museum of Art', 8000), ('A Spoon Fulla Sugar', 512), ('Garnish Catering', 40), ('The Chuck Taylors', 3100), ('Chaz Bridal & Consignment', 1600)), (('Taft Museum of Art', 8000), ('A Spoon Fulla Sugar', 512), ('Garnish Catering', 40), ('The Chuck Taylors', 3100), ('Hyde Park Bridal', 1900)), (('Taft Museum of Art', 8000), ('A Spoon Fulla Sugar', 512), ('Garnish Catering', 40), ('The Bluewater Kings Band', 4020), ('Chaz Bridal & Consignment', 1600)), (('Taft Museum of Art', 8000), ('A Spoon Fulla Sugar', 512), ('Garnish Catering', 40), ('The Bluewater Kings Band', 4020), ('Hyde Park Bridal', 1900)), (('Taft Museum of Art', 8000), ('A Spoon Fulla Sugar', 512), ('Garnish Catering', 40), ('The Rusty Griswolds', 3600), ('Chaz Bridal & Consignment', 1600)), (('Taft Museum of Art', 8000), ('A Spoon Fulla Sugar', 512), ('Garnish Catering', 40), ('The Rusty Griswolds', 3600), ('Hyde Park Bridal', 1900)), (('Taft Museum of Art', 8000), ('A Spoon Fulla Sugar', 512), ('Garnish Catering', 40), ('The Link Ensemble', 1600), ('Chaz Bridal & Consignment', 1600)), (('Taft Museum of Art', 8000), ('A Spoon Fulla Sugar', 512), ('Garnish Catering', 40), ('The Link Ensemble', 1600), ('Hyde Park Bridal', 1900)), (('Taft Museum of Art', 8000), ('Jazzy Cake Supply', 409), ('Garnish Catering', 40), ('The Chuck Taylors', 3100), ('Chaz Bridal & Consignment', 1600)), (('Taft Museum of Art', 8000), ('Jazzy Cake Supply', 409), ('Garnish Catering', 40), ('The Chuck Taylors', 3100), ('Hyde Park Bridal', 1900)), (('Taft Museum of Art', 8000), ('Jazzy Cake Supply', 409), ('Garnish Catering', 40), ('The Bluewater Kings Band', 4020), ('Chaz Bridal & Consignment', 1600)), (('Taft Museum of Art', 8000), ('Jazzy Cake Supply', 409), ('Garnish Catering', 40), ('The Bluewater Kings Band', 4020), ('Hyde Park Bridal', 1900)), (('Taft Museum of Art', 8000), ('Jazzy Cake Supply', 409), ('Garnish Catering', 40), ('The Rusty Griswolds', 3600), ('Chaz Bridal & Consignment', 1600)), (('Taft Museum of Art', 8000), ('Jazzy Cake Supply', 409), ('Garnish Catering', 40), ('The Rusty Griswolds', 3600), ('Hyde Park Bridal', 1900)), (('Taft Museum of Art', 8000), ('Jazzy Cake Supply', 409), ('Garnish Catering', 40), ('The Link Ensemble', 1600), ('Chaz Bridal & Consignment', 1600)), (('Taft Museum of Art', 8000), ('Jazzy Cake Supply', 409), ('Garnish Catering', 40), ('The Link Ensemble', 1600), ('Hyde Park Bridal', 1900)), (('20th Century Theater', 8000), ('Haven Bakery', 471), ('Garnish Catering', 40), ('The Chuck Taylors', 3100), ('Chaz Bridal & Consignment', 1600)), (('20th Century Theater', 8000), ('Haven Bakery', 471), ('Garnish Catering', 40), ('The Chuck Taylors', 3100), ('Hyde Park Bridal', 1900)), (('20th Century Theater', 8000), ('Haven Bakery', 471), ('Garnish Catering', 40), ('The Bluewater Kings Band', 4020), ('Chaz Bridal & Consignment', 1600)), (('20th Century Theater', 8000), ('Haven Bakery', 471), ('Garnish Catering', 40), ('The Bluewater Kings Band', 4020), ('Hyde Park Bridal', 1900)), (('20th Century Theater', 8000), ('Haven Bakery', 471), ('Garnish Catering', 40), ('The Rusty Griswolds', 3600), ('Chaz Bridal & Consignment', 1600)), (('20th Century Theater', 8000), ('Haven Bakery', 471), ('Garnish Catering', 40), ('The Rusty Griswolds', 3600), ('Hyde Park Bridal', 1900)), (('20th Century Theater', 8000), ('Haven Bakery', 471), ('Garnish Catering', 40), ('The Link Ensemble', 1600), ('Chaz Bridal & Consignment', 1600)), (('20th Century Theater', 8000), ('Haven Bakery', 471), ('Garnish Catering', 40), ('The Link Ensemble', 1600), ('Hyde Park Bridal', 1900)), (('20th Century Theater', 8000), ('A Spoon Fulla Sugar', 512), ('Garnish Catering', 40), ('The Chuck Taylors', 3100), ('Chaz Bridal & Consignment', 1600)), (('20th Century Theater', 8000), ('A Spoon Fulla Sugar', 512), ('Garnish Catering', 40), ('The Chuck Taylors', 3100), ('Hyde Park Bridal', 1900)), (('20th Century Theater', 8000), ('A Spoon Fulla Sugar', 512), ('Garnish Catering', 40), ('The Bluewater Kings Band', 4020), ('Chaz Bridal & Consignment', 1600)), (('20th Century Theater', 8000), ('A Spoon Fulla Sugar', 512), ('Garnish Catering', 40), ('The Bluewater Kings Band', 4020), ('Hyde Park Bridal', 1900)), (('20th Century Theater', 8000), ('A Spoon Fulla Sugar', 512), ('Garnish Catering', 40), ('The Rusty Griswolds', 3600), ('Chaz Bridal & Consignment', 1600)), (('20th Century Theater', 8000), ('A Spoon Fulla Sugar', 512), ('Garnish Catering', 40), ('The Rusty Griswolds', 3600), ('Hyde Park Bridal', 1900)), (('20th Century Theater', 8000), ('A Spoon Fulla Sugar', 512), ('Garnish Catering', 40), ('The Link Ensemble', 1600), ('Chaz Bridal & Consignment', 1600)), (('20th Century Theater', 8000), ('A Spoon Fulla Sugar', 512), ('Garnish Catering', 40), ('The Link Ensemble', 1600), ('Hyde Park Bridal', 1900)), (('20th Century Theater', 8000), ('Jazzy Cake Supply', 409), ('Garnish Catering', 40), ('The Chuck Taylors', 3100), ('Chaz Bridal & Consignment', 1600)), (('20th Century Theater', 8000), ('Jazzy Cake Supply', 409), ('Garnish Catering', 40), ('The Chuck Taylors', 3100), ('Hyde Park Bridal', 1900)), (('20th Century Theater', 8000), ('Jazzy Cake Supply', 409), ('Garnish Catering', 40), ('The Bluewater Kings Band', 4020), ('Chaz Bridal & Consignment', 1600)), (('20th Century Theater', 8000), ('Jazzy Cake Supply', 409), ('Garnish Catering', 40), ('The Bluewater Kings Band', 4020), ('Hyde Park Bridal', 1900)), (('20th Century Theater', 8000), ('Jazzy Cake Supply', 409), ('Garnish Catering', 40), ('The Rusty Griswolds', 3600), ('Chaz Bridal & Consignment', 1600)), (('20th Century Theater', 8000), ('Jazzy Cake Supply', 409), ('Garnish Catering', 40), ('The Rusty Griswolds', 3600), ('Hyde Park Bridal', 1900)), (('20th Century Theater', 8000), ('Jazzy Cake Supply', 409), ('Garnish Catering', 40), ('The Link Ensemble', 1600), ('Chaz Bridal & Consignment', 1600)), (('20th Century Theater', 8000), ('Jazzy Cake Supply', 409), ('Garnish Catering', 40), ('The Link Ensemble', 1600), ('Hyde Park Bridal', 1900))]\n"
     ]
    }
   ],
   "source": [
    "\n",
    "import itertools\n",
    "import pandas as pd\n",
    "\n",
    "# create a sample dataframe\n",
    "df = pd.DataFrame({'A': [1, 2, 3, 4, None], 'B': [5, None, 7, 8, 9]})\n",
    "\n",
    "# get the non-NaN elements of columns A and B as lists\n",
    "a_values = extrafinal['event'].dropna().tolist()\n",
    "b_values = extrafinal['cake'].dropna().tolist()\n",
    "c_values = extrafinal['food'].dropna().tolist()\n",
    "d_values = extrafinal['music'].dropna().tolist()\n",
    "e_values = extrafinal['dress'].dropna().tolist()\n",
    "\n",
    "# generate all possible pairs of non-NaN elements from columns A and B\n",
    "pairs = list(itertools.product(a_values, b_values, c_values, d_values, e_values))\n",
    "\n",
    "print(pairs)\n"
   ]
  },
  {
   "cell_type": "code",
   "execution_count": 12,
   "metadata": {},
   "outputs": [
    {
     "name": "stdout",
     "output_type": "stream",
     "text": [
      "(('Transept', 4000), ('Haven Bakery', 471), ('Garnish Catering', 40), ('The Chuck Taylors', 3100), ('Chaz Bridal & Consignment', 1600))\n"
     ]
    }
   ],
   "source": [
    "# total = 0\n",
    "# for tup in comb:\n",
    "#     for element in tup:\n",
    "#         if isinstance(element, int):\n",
    "#             total += element\n",
    "\n",
    "# print(total)\n",
    "\n",
    "# print(type(pairs[0][0][1]))\n",
    "print(pairs[0])"
   ]
  },
  {
   "cell_type": "code",
   "execution_count": 13,
   "metadata": {},
   "outputs": [
    {
     "name": "stdout",
     "output_type": "stream",
     "text": [
      "72\n",
      "[9211, 9511, 10131, 10431, 9711, 10011, 7711, 8011, 9252, 9552, 10172, 10472, 9752, 10052, 7752, 8052, 9149, 9449, 10069, 10369, 9649, 9949, 7649, 7949, 13211, 13511, 14131, 14431, 13711, 14011, 11711, 12011, 13252, 13552, 14172, 14472, 13752, 14052, 11752, 12052, 13149, 13449, 14069, 14369, 13649, 13949, 11649, 11949, 13211, 13511, 14131, 14431, 13711, 14011, 11711, 12011, 13252, 13552, 14172, 14472, 13752, 14052, 11752, 12052, 13149, 13449, 14069, 14369, 13649, 13949, 11649, 11949]\n",
      "72\n"
     ]
    }
   ],
   "source": [
    "budgetList=[]\n",
    "cost =0\n",
    "print(len(pairs))\n",
    "\n",
    "\n",
    "for comb in pairs:\n",
    "    for element in comb:\n",
    "        cost = cost + element[1]\n",
    "    budgetList.append(cost)\n",
    "    cost = 0\n",
    "\n",
    "print(budgetList)\n",
    "print(len(budgetList))\n"
   ]
  },
  {
   "cell_type": "code",
   "execution_count": null,
   "metadata": {},
   "outputs": [],
   "source": []
  },
  {
   "cell_type": "code",
   "execution_count": 14,
   "metadata": {},
   "outputs": [
    {
     "data": {
      "image/png": "[encoded data removed]",
      "text/plain": [
       "<Figure size 640x480 with 1 Axes>"
      ]
     },
     "metadata": {},
     "output_type": "display_data"
    }
   ],
   "source": [
    "plt.plot(range(len(budgetList)), budgetList)\n",
    "plt.show()"
   ]
  },
  {
   "cell_type": "code",
   "execution_count": 15,
   "metadata": {},
   "outputs": [
    {
     "name": "stdout",
     "output_type": "stream",
     "text": [
      "There are duplicate values in the list\n"
     ]
    }
   ],
   "source": [
    "if len(budgetList) != len(set(budgetList)):\n",
    "    print(\"There are duplicate values in the list\")\n",
    "else:\n",
    "    print(\"There are no duplicate values in the list\")"
   ]
  },
  {
   "cell_type": "code",
   "execution_count": 16,
   "metadata": {},
   "outputs": [
    {
     "name": "stdout",
     "output_type": "stream",
     "text": [
      "13211 appears 2 times in the list\n",
      "13511 appears 2 times in the list\n",
      "14131 appears 2 times in the list\n",
      "14431 appears 2 times in the list\n",
      "13711 appears 2 times in the list\n",
      "14011 appears 2 times in the list\n",
      "11711 appears 2 times in the list\n",
      "12011 appears 2 times in the list\n",
      "13252 appears 2 times in the list\n",
      "13552 appears 2 times in the list\n",
      "14172 appears 2 times in the list\n",
      "14472 appears 2 times in the list\n",
      "13752 appears 2 times in the list\n",
      "14052 appears 2 times in the list\n",
      "11752 appears 2 times in the list\n",
      "12052 appears 2 times in the list\n",
      "13149 appears 2 times in the list\n",
      "13449 appears 2 times in the list\n",
      "14069 appears 2 times in the list\n",
      "14369 appears 2 times in the list\n",
      "13649 appears 2 times in the list\n",
      "13949 appears 2 times in the list\n",
      "11649 appears 2 times in the list\n",
      "11949 appears 2 times in the list\n"
     ]
    }
   ],
   "source": [
    "from collections import Counter\n",
    "\n",
    "\n",
    "\n",
    "# count the occurrences of each value in the list\n",
    "counts = Counter(budgetList)\n",
    "\n",
    "# iterate over the counts and print the count for each value that appears more than once\n",
    "for value, count in counts.items():\n",
    "    if count > 1:\n",
    "        print(f\"{value} appears {count} times in the list\")"
   ]
  },
  {
   "cell_type": "code",
   "execution_count": 17,
   "metadata": {},
   "outputs": [
    {
     "name": "stdout",
     "output_type": "stream",
     "text": [
      "The target value 11711 appears at indexes [30, 54]\n"
     ]
    }
   ],
   "source": [
    "indexes = []\n",
    "\n",
    "# loop over the list and check each element against the target\n",
    "for i in range(len(budgetList)):\n",
    "    if budgetList[i] == 11711:\n",
    "        # if the element matches the target, append its index to the list\n",
    "        indexes.append(i)\n",
    "\n",
    "print(f\"The target value {11711} appears at indexes {indexes}\")"
   ]
  },
  {
   "cell_type": "code",
   "execution_count": 18,
   "metadata": {},
   "outputs": [
    {
     "name": "stdout",
     "output_type": "stream",
     "text": [
      "(('Taft Museum of Art', 8000), ('Haven Bakery', 471), ('Garnish Catering', 40), ('The Link Ensemble', 1600), ('Chaz Bridal & Consignment', 1600))\n",
      "(('20th Century Theater', 8000), ('Haven Bakery', 471), ('Garnish Catering', 40), ('The Link Ensemble', 1600), ('Chaz Bridal & Consignment', 1600))\n"
     ]
    }
   ],
   "source": [
    "print(pairs[30])\n",
    "print(pairs[54])"
   ]
  },
  {
   "cell_type": "code",
   "execution_count": 20,
   "metadata": {},
   "outputs": [
    {
     "name": "stdout",
     "output_type": "stream",
     "text": [
      "[9211, 9511, 10131, 10431, 9711, 10011, 7711, 8011, 9252, 9552, 10172, 10472, 9752, 10052, 7752, 8052, 9149, 9449, 10069, 10369, 9649, 9949, 7649, 7949, 13211, 13511, 14131, 14431, 13711, 14011, 11711, 12011, 13252, 13552, 14172, 14472, 13752, 14052, 11752, 12052, 13149, 13449, 14069, 14369, 13649, 13949, 11649, 11949, 13211, 13511, 14131, 14431, 13711, 14011, 11711, 12011, 13252, 13552, 14172, 14472, 13752, 14052, 11752, 12052, 13149, 13449, 14069, 14369, 13649, 13949, 11649, 11949]\n"
     ]
    }
   ],
   "source": [
    "print(budgetList)"
   ]
  },
  {
   "cell_type": "code",
   "execution_count": 33,
   "metadata": {},
   "outputs": [
    {
     "name": "stdout",
     "output_type": "stream",
     "text": [
      "[(0, 10011), (1, 9949), (2, 10052), (3, 10069), (4, 10131), (5, 10172), (6, 9752), (7, 9711), (8, 9649), (9, 10369), (10, 10431), (11, 9552), (12, 10472), (13, 9511), (14, 9449), (15, 9252), (16, 9211), (17, 9149), (18, 11649), (19, 11649), (20, 11711), (21, 11711), (22, 11752), (23, 11752), (24, 8052), (25, 11949), (26, 11949), (27, 8011), (28, 12011), (29, 12011), (30, 7949), (31, 12052), (32, 12052), (33, 7752), (34, 7711), (35, 7649), (36, 13149), (37, 13149), (38, 13211), (39, 13211), (40, 13252), (41, 13252), (42, 13449), (43, 13449), (44, 13511), (45, 13511), (46, 13552), (47, 13552), (48, 13649), (49, 13649), (50, 13711), (51, 13711), (52, 13752), (53, 13752), (54, 13949), (55, 13949), (56, 14011), (57, 14011), (58, 14052), (59, 14052), (60, 14069), (61, 14069), (62, 14131), (63, 14131), (64, 14172), (65, 14172), (66, 14369), (67, 14369), (68, 14431), (69, 14431), (70, 14472), (71, 14472)]\n"
     ]
    }
   ],
   "source": [
    "lst=budgetList\n",
    "qwer= [(idx, val) for idx, val in enumerate(lst)]\n",
    "print(qwer)"
   ]
  },
  {
   "cell_type": "code",
   "execution_count": 39,
   "metadata": {},
   "outputs": [
    {
     "name": "stdout",
     "output_type": "stream",
     "text": [
      "Index: 17, Value: 9149\n",
      "Index: 16, Value: 9211\n",
      "Index: 15, Value: 9252\n"
     ]
    }
   ],
   "source": [
    "lst=qwer\n",
    "target= 9000\n",
    "sorted_lst = sorted(lst, key=lambda lst: abs(lst[1] - target))\n",
    "    \n",
    "for i in range(3):\n",
    "    index, value = sorted_lst[i]\n",
    "    print(f\"Index: {index}, Value: {value}\")"
   ]
  },
  {
   "cell_type": "code",
   "execution_count": 38,
   "metadata": {},
   "outputs": [
    {
     "name": "stdout",
     "output_type": "stream",
     "text": [
      "[(17, 9149), (16, 9211), (15, 9252)]\n"
     ]
    }
   ],
   "source": [
    "lst = qwer\n",
    "\n",
    "# First, let's calculate the distances of each number from 10000\n",
    "distances = [(i, abs(9000 - num)) for i, num in lst]\n",
    "\n",
    "# Then, we sort the distances in ascending order\n",
    "distances_sorted = sorted(distances, key=lambda x: x[1])\n",
    "\n",
    "# Finally, we take the top 3 closest numbers and their respective indices\n",
    "top_3_closest = [(lst[i][0], lst[i][1]) for i, d in distances_sorted[:3]]\n",
    "\n",
    "# Print the result\n",
    "print(top_3_closest)"
   ]
  },
  {
   "cell_type": "code",
   "execution_count": 53,
   "metadata": {},
   "outputs": [
    {
     "name": "stdout",
     "output_type": "stream",
     "text": [
      "(('Transept', 4000), ('Jazzy Cake Supply', 409), ('Garnish Catering', 40), ('The Chuck Taylors', 3100), ('Hyde Park Bridal', 1900)) 9149\n",
      "(('Transept', 4000), ('Jazzy Cake Supply', 409), ('Garnish Catering', 40), ('The Chuck Taylors', 3100), ('Chaz Bridal & Consignment', 1600)) 9211\n",
      "(('Transept', 4000), ('A Spoon Fulla Sugar', 512), ('Garnish Catering', 40), ('The Link Ensemble', 1600), ('Hyde Park Bridal', 1900)) 9252\n"
     ]
    }
   ],
   "source": [
    "#print(pairs[top_3_closest[0][0]])\n",
    "\n",
    "for tup in top_3_closest:\n",
    "    element1 = tup[0]\n",
    "    element2 = tup[1]\n",
    "    print(pairs[element1], element2)\n",
    "    #print(element1, element2)\n"
   ]
  },
  {
   "cell_type": "code",
   "execution_count": null,
   "metadata": {},
   "outputs": [],
   "source": []
  }
 ],
 "metadata": {
  "kernelspec": {
   "display_name": "base",
   "language": "python",
   "name": "python3"
  },
  "language_info": {
   "codemirror_mode": {
    "name": "ipython",
    "version": 3
   },
   "file_extension": ".py",
   "mimetype": "text/x-python",
   "name": "python",
   "nbconvert_exporter": "python",
   "pygments_lexer": "ipython3",
   "version": "3.11.0"
  },
  "orig_nbformat": 4
 },
 "nbformat": 4,
 "nbformat_minor": 2
}
